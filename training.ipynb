{
 "cells": [
  {
   "cell_type": "code",
   "execution_count": 1,
   "id": "associate-northern",
   "metadata": {},
   "outputs": [],
   "source": [
    "import pandas as pd\n",
    "import time\n",
    "from collections import defaultdict"
   ]
  },
  {
   "cell_type": "code",
   "execution_count": 2,
   "id": "polyphonic-shelter",
   "metadata": {},
   "outputs": [
    {
     "name": "stdout",
     "output_type": "stream",
     "text": [
      "CPU times: user 1min 56s, sys: 25.2 s, total: 2min 21s\n",
      "Wall time: 2min 24s\n"
     ]
    },
    {
     "data": {
      "text/plain": [
       "(40428967, 24)"
      ]
     },
     "execution_count": 2,
     "metadata": {},
     "output_type": "execute_result"
    }
   ],
   "source": [
    "%%time\n",
    "train = pd.read_csv('./train_preprocess2.csv',\n",
    "                    dtype={\n",
    "                        'C1_fix':object,\n",
    "                        'banner_pos_fix':object,\n",
    "                        'site_id_fix_fix':object,\n",
    "                        'site_domain_fix_fix':object,\n",
    "                        'site_category_fix_fix':object,\n",
    "                        'app_id_fix_fix':object,\n",
    "                        'app_domain_fix_fix':object,\n",
    "                        'app_category_fix_fix':object,\n",
    "                        'device_id_fix_fix':object,\n",
    "                        'device_ip_fix_fix':object,\n",
    "                        'device_model_fix_fix':object,\n",
    "                        'device_type_fix':object,\n",
    "                        'device_conn_type_fix':object,\n",
    "                        'C14_fix_fix':object,\n",
    "                        'C15_fix':object,\n",
    "                        'C16_fix':object,\n",
    "                        'C17_fix_fix':object,\n",
    "                        'C18_fix':object,\n",
    "                        'C19_fix_fix':object,\n",
    "                        'C20_fix_fix':object,\n",
    "                        'C21_fix':object,\n",
    "                        'hour_fix_fix':object\n",
    "                    })\n",
    "train.shape"
   ]
  },
  {
   "cell_type": "code",
   "execution_count": 3,
   "id": "brazilian-stock",
   "metadata": {},
   "outputs": [
    {
     "data": {
      "text/plain": [
       "id                       float64\n",
       "click                      int64\n",
       "C1_fix                    object\n",
       "banner_pos_fix            object\n",
       "site_id_fix_fix           object\n",
       "site_domain_fix_fix       object\n",
       "site_category_fix_fix     object\n",
       "app_id_fix_fix            object\n",
       "app_domain_fix_fix        object\n",
       "app_category_fix_fix      object\n",
       "device_id_fix_fix         object\n",
       "device_ip_fix_fix         object\n",
       "device_model_fix_fix      object\n",
       "device_type_fix           object\n",
       "device_conn_type_fix      object\n",
       "C14_fix_fix               object\n",
       "C15_fix                   object\n",
       "C16_fix                   object\n",
       "C17_fix_fix               object\n",
       "C18_fix                   object\n",
       "C19_fix_fix               object\n",
       "C20_fix_fix               object\n",
       "C21_fix                   object\n",
       "hour_fix_fix              object\n",
       "dtype: object"
      ]
     },
     "execution_count": 3,
     "metadata": {},
     "output_type": "execute_result"
    }
   ],
   "source": [
    "train.dtypes"
   ]
  },
  {
   "cell_type": "code",
   "execution_count": 4,
   "id": "other-pasta",
   "metadata": {},
   "outputs": [],
   "source": [
    "f_cols = train.columns.tolist()\n",
    "f_cols.remove('id')\n",
    "f_cols.remove('click')"
   ]
  },
  {
   "cell_type": "code",
   "execution_count": 5,
   "id": "streaming-shirt",
   "metadata": {},
   "outputs": [
    {
     "name": "stdout",
     "output_type": "stream",
     "text": [
      "CPU times: user 1min 36s, sys: 19.7 s, total: 1min 55s\n",
      "Wall time: 1min 57s\n"
     ]
    },
    {
     "data": {
      "text/plain": [
       "C1_fix                     4\n",
       "banner_pos_fix             4\n",
       "site_id_fix_fix           27\n",
       "site_domain_fix_fix       25\n",
       "site_category_fix_fix      4\n",
       "app_id_fix_fix            17\n",
       "app_domain_fix_fix         8\n",
       "app_category_fix_fix       3\n",
       "device_id_fix_fix          2\n",
       "device_ip_fix_fix         14\n",
       "device_model_fix_fix      95\n",
       "device_type_fix            3\n",
       "device_conn_type_fix       2\n",
       "C14_fix_fix              116\n",
       "C15_fix                    2\n",
       "C16_fix                    3\n",
       "C17_fix_fix               64\n",
       "C18_fix                    2\n",
       "C19_fix_fix               14\n",
       "C20_fix_fix               22\n",
       "C21_fix                   17\n",
       "hour_fix_fix              24\n",
       "dtype: int64"
      ]
     },
     "execution_count": 5,
     "metadata": {},
     "output_type": "execute_result"
    }
   ],
   "source": [
    "%%time\n",
    "train[f_cols].nunique()"
   ]
  },
  {
   "cell_type": "markdown",
   "id": "superior-glance",
   "metadata": {},
   "source": [
    "## 模型訓練"
   ]
  },
  {
   "cell_type": "code",
   "execution_count": 6,
   "id": "assigned-continent",
   "metadata": {},
   "outputs": [],
   "source": [
    "from sklearn.model_selection import train_test_split, GridSearchCV\n",
    "from sklearn.tree import DecisionTreeClassifier as dt\n",
    "from sklearn.ensemble import RandomForestClassifier as rf\n",
    "from sklearn.preprocessing import StandardScaler"
   ]
  },
  {
   "cell_type": "code",
   "execution_count": 7,
   "id": "animated-webster",
   "metadata": {},
   "outputs": [
    {
     "name": "stdout",
     "output_type": "stream",
     "text": [
      "CPU times: user 1min 17s, sys: 33.2 s, total: 1min 51s\n",
      "Wall time: 1min 54s\n"
     ]
    },
    {
     "data": {
      "text/plain": [
       "(3234119, 23)"
      ]
     },
     "execution_count": 7,
     "metadata": {},
     "output_type": "execute_result"
    }
   ],
   "source": [
    "%%time\n",
    "train_distinct = train.drop(columns=['id']).drop_duplicates()\n",
    "train_distinct.shape"
   ]
  },
  {
   "cell_type": "code",
   "execution_count": 22,
   "id": "instant-discharge",
   "metadata": {},
   "outputs": [
    {
     "data": {
      "text/plain": [
       "0    2170735\n",
       "1    1063384\n",
       "Name: click, dtype: int64"
      ]
     },
     "execution_count": 22,
     "metadata": {},
     "output_type": "execute_result"
    }
   ],
   "source": [
    "train_distinct.click.value_counts()"
   ]
  },
  {
   "cell_type": "code",
   "execution_count": 33,
   "id": "cutting-regulation",
   "metadata": {},
   "outputs": [
    {
     "name": "stdout",
     "output_type": "stream",
     "text": [
      "CPU times: user 1.19 s, sys: 40.8 ms, total: 1.23 s\n",
      "Wall time: 1.24 s\n"
     ]
    },
    {
     "data": {
      "text/plain": [
       "(323412, 23)"
      ]
     },
     "execution_count": 33,
     "metadata": {},
     "output_type": "execute_result"
    }
   ],
   "source": [
    "%%time\n",
    "train_sample = train_distinct.sample(frac=0.1, replace=True, random_state=42)\n",
    "train_sample.shape"
   ]
  },
  {
   "cell_type": "code",
   "execution_count": 34,
   "id": "temporal-petersburg",
   "metadata": {},
   "outputs": [
    {
     "data": {
      "text/plain": [
       "0    216686\n",
       "1    106726\n",
       "Name: click, dtype: int64"
      ]
     },
     "execution_count": 34,
     "metadata": {},
     "output_type": "execute_result"
    }
   ],
   "source": [
    "train_sample.click.value_counts()"
   ]
  },
  {
   "cell_type": "code",
   "execution_count": 35,
   "id": "fiscal-incident",
   "metadata": {},
   "outputs": [
    {
     "data": {
      "text/plain": [
       "C1_fix                     4\n",
       "banner_pos_fix             4\n",
       "site_id_fix_fix           27\n",
       "site_domain_fix_fix       25\n",
       "site_category_fix_fix      4\n",
       "app_id_fix_fix            17\n",
       "app_domain_fix_fix         8\n",
       "app_category_fix_fix       3\n",
       "device_id_fix_fix          2\n",
       "device_ip_fix_fix         14\n",
       "device_model_fix_fix      95\n",
       "device_type_fix            3\n",
       "device_conn_type_fix       2\n",
       "C14_fix_fix              116\n",
       "C15_fix                    2\n",
       "C16_fix                    3\n",
       "C17_fix_fix               64\n",
       "C18_fix                    2\n",
       "C19_fix_fix               14\n",
       "C20_fix_fix               22\n",
       "C21_fix                   17\n",
       "hour_fix_fix              24\n",
       "dtype: int64"
      ]
     },
     "execution_count": 35,
     "metadata": {},
     "output_type": "execute_result"
    }
   ],
   "source": [
    "train_sample[f_cols].nunique()"
   ]
  },
  {
   "cell_type": "code",
   "execution_count": 36,
   "id": "chemical-cookbook",
   "metadata": {},
   "outputs": [
    {
     "name": "stdout",
     "output_type": "stream",
     "text": [
      "CPU times: user 1.76 s, sys: 181 ms, total: 1.94 s\n",
      "Wall time: 1.96 s\n"
     ]
    },
    {
     "data": {
      "text/plain": [
       "((323412, 472), (323412, 1))"
      ]
     },
     "execution_count": 36,
     "metadata": {},
     "output_type": "execute_result"
    }
   ],
   "source": [
    "%%time\n",
    "x = train_sample.drop(columns=['click'])\n",
    "y = train_sample[['click']]\n",
    "x = pd.get_dummies(x)\n",
    "x.shape, y.shape"
   ]
  },
  {
   "cell_type": "code",
   "execution_count": 28,
   "id": "daily-essay",
   "metadata": {},
   "outputs": [
    {
     "name": "stdout",
     "output_type": "stream",
     "text": [
      "CPU times: user 3.69 s, sys: 550 ms, total: 4.24 s\n",
      "Wall time: 4.27 s\n"
     ]
    }
   ],
   "source": [
    "%%time\n",
    "x_train, x_test, y_train, y_test = train_test_split(x, y, test_size=0.2, random_state=42)"
   ]
  },
  {
   "cell_type": "code",
   "execution_count": 29,
   "id": "improving-launch",
   "metadata": {},
   "outputs": [
    {
     "name": "stdout",
     "output_type": "stream",
     "text": [
      "Fitting 5 folds for each of 12 candidates, totalling 60 fits\n",
      "CPU times: user 1min 23s, sys: 1.42 s, total: 1min 25s\n",
      "Wall time: 32min 52s\n"
     ]
    },
    {
     "data": {
      "text/plain": [
       "GridSearchCV(estimator=DecisionTreeClassifier(), n_jobs=-1,\n",
       "             param_grid={'criterion': ['gini', 'entropy'],\n",
       "                         'max_depth': [20, 25, 30, 35, 40, 45]},\n",
       "             scoring='recall', verbose=1)"
      ]
     },
     "execution_count": 29,
     "metadata": {},
     "output_type": "execute_result"
    }
   ],
   "source": [
    "%%time\n",
    "para_search = {'criterion':['gini','entropy'],'max_depth':[i for i in range(10, 20, 2)]}\n",
    "gs = GridSearchCV(dt(), param_grid=para_search, scoring='recall', verbose=1, n_jobs=-1)\n",
    "gs.fit(x_train, y_train)"
   ]
  },
  {
   "cell_type": "code",
   "execution_count": 32,
   "id": "complete-myrtle",
   "metadata": {},
   "outputs": [
    {
     "data": {
      "text/plain": [
       "({'criterion': 'gini', 'max_depth': 45}, 0.3063778053963659)"
      ]
     },
     "execution_count": 32,
     "metadata": {},
     "output_type": "execute_result"
    }
   ],
   "source": [
    "gs.best_params_, gs.best_score_"
   ]
  },
  {
   "cell_type": "code",
   "execution_count": null,
   "id": "assumed-surrey",
   "metadata": {},
   "outputs": [],
   "source": []
  }
 ],
 "metadata": {
  "kernelspec": {
   "display_name": "Python 3",
   "language": "python",
   "name": "python3"
  },
  "language_info": {
   "codemirror_mode": {
    "name": "ipython",
    "version": 3
   },
   "file_extension": ".py",
   "mimetype": "text/x-python",
   "name": "python",
   "nbconvert_exporter": "python",
   "pygments_lexer": "ipython3",
   "version": "3.7.8"
  }
 },
 "nbformat": 4,
 "nbformat_minor": 5
}
