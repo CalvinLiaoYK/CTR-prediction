{
 "cells": [
  {
   "cell_type": "code",
   "execution_count": 1,
   "id": "associate-northern",
   "metadata": {},
   "outputs": [],
   "source": [
    "import pandas as pd\n",
    "import time\n",
    "from collections import defaultdict"
   ]
  },
  {
   "cell_type": "code",
   "execution_count": 2,
   "id": "polyphonic-shelter",
   "metadata": {},
   "outputs": [
    {
     "name": "stdout",
     "output_type": "stream",
     "text": [
      "CPU times: user 1min 56s, sys: 25.2 s, total: 2min 21s\n",
      "Wall time: 2min 24s\n"
     ]
    },
    {
     "data": {
      "text/plain": [
       "(40428967, 24)"
      ]
     },
     "execution_count": 2,
     "metadata": {},
     "output_type": "execute_result"
    }
   ],
   "source": [
    "%%time\n",
    "train = pd.read_csv('./train_preprocess2.csv',\n",
    "                    dtype={\n",
    "                        'C1_fix':object,\n",
    "                        'banner_pos_fix':object,\n",
    "                        'site_id_fix_fix':object,\n",
    "                        'site_domain_fix_fix':object,\n",
    "                        'site_category_fix_fix':object,\n",
    "                        'app_id_fix_fix':object,\n",
    "                        'app_domain_fix_fix':object,\n",
    "                        'app_category_fix_fix':object,\n",
    "                        'device_id_fix_fix':object,\n",
    "                        'device_ip_fix_fix':object,\n",
    "                        'device_model_fix_fix':object,\n",
    "                        'device_type_fix':object,\n",
    "                        'device_conn_type_fix':object,\n",
    "                        'C14_fix_fix':object,\n",
    "                        'C15_fix':object,\n",
    "                        'C16_fix':object,\n",
    "                        'C17_fix_fix':object,\n",
    "                        'C18_fix':object,\n",
    "                        'C19_fix_fix':object,\n",
    "                        'C20_fix_fix':object,\n",
    "                        'C21_fix':object,\n",
    "                        'hour_fix_fix':object\n",
    "                    })\n",
    "train.shape"
   ]
  },
  {
   "cell_type": "code",
   "execution_count": 3,
   "id": "brazilian-stock",
   "metadata": {},
   "outputs": [
    {
     "data": {
      "text/plain": [
       "id                       float64\n",
       "click                      int64\n",
       "C1_fix                    object\n",
       "banner_pos_fix            object\n",
       "site_id_fix_fix           object\n",
       "site_domain_fix_fix       object\n",
       "site_category_fix_fix     object\n",
       "app_id_fix_fix            object\n",
       "app_domain_fix_fix        object\n",
       "app_category_fix_fix      object\n",
       "device_id_fix_fix         object\n",
       "device_ip_fix_fix         object\n",
       "device_model_fix_fix      object\n",
       "device_type_fix           object\n",
       "device_conn_type_fix      object\n",
       "C14_fix_fix               object\n",
       "C15_fix                   object\n",
       "C16_fix                   object\n",
       "C17_fix_fix               object\n",
       "C18_fix                   object\n",
       "C19_fix_fix               object\n",
       "C20_fix_fix               object\n",
       "C21_fix                   object\n",
       "hour_fix_fix              object\n",
       "dtype: object"
      ]
     },
     "execution_count": 3,
     "metadata": {},
     "output_type": "execute_result"
    }
   ],
   "source": [
    "train.dtypes"
   ]
  },
  {
   "cell_type": "code",
   "execution_count": 4,
   "id": "other-pasta",
   "metadata": {},
   "outputs": [],
   "source": [
    "f_cols = train.columns.tolist()\n",
    "f_cols.remove('id')\n",
    "f_cols.remove('click')"
   ]
  },
  {
   "cell_type": "code",
   "execution_count": 5,
   "id": "streaming-shirt",
   "metadata": {},
   "outputs": [
    {
     "name": "stdout",
     "output_type": "stream",
     "text": [
      "CPU times: user 1min 36s, sys: 19.7 s, total: 1min 55s\n",
      "Wall time: 1min 57s\n"
     ]
    },
    {
     "data": {
      "text/plain": [
       "C1_fix                     4\n",
       "banner_pos_fix             4\n",
       "site_id_fix_fix           27\n",
       "site_domain_fix_fix       25\n",
       "site_category_fix_fix      4\n",
       "app_id_fix_fix            17\n",
       "app_domain_fix_fix         8\n",
       "app_category_fix_fix       3\n",
       "device_id_fix_fix          2\n",
       "device_ip_fix_fix         14\n",
       "device_model_fix_fix      95\n",
       "device_type_fix            3\n",
       "device_conn_type_fix       2\n",
       "C14_fix_fix              116\n",
       "C15_fix                    2\n",
       "C16_fix                    3\n",
       "C17_fix_fix               64\n",
       "C18_fix                    2\n",
       "C19_fix_fix               14\n",
       "C20_fix_fix               22\n",
       "C21_fix                   17\n",
       "hour_fix_fix              24\n",
       "dtype: int64"
      ]
     },
     "execution_count": 5,
     "metadata": {},
     "output_type": "execute_result"
    }
   ],
   "source": [
    "%%time\n",
    "train[f_cols].nunique()"
   ]
  },
  {
   "cell_type": "markdown",
   "id": "superior-glance",
   "metadata": {},
   "source": [
    "## 模型訓練"
   ]
  },
  {
   "cell_type": "code",
   "execution_count": 6,
   "id": "assigned-continent",
   "metadata": {},
   "outputs": [],
   "source": [
    "from sklearn.model_selection import train_test_split, GridSearchCV\n",
    "from sklearn.tree import DecisionTreeClassifier as dt\n",
    "from sklearn.ensemble import RandomForestClassifier as rf\n",
    "from sklearn.preprocessing import StandardScaler"
   ]
  },
  {
   "cell_type": "code",
   "execution_count": 7,
   "id": "animated-webster",
   "metadata": {},
   "outputs": [
    {
     "name": "stdout",
     "output_type": "stream",
     "text": [
      "CPU times: user 1min 17s, sys: 33.2 s, total: 1min 51s\n",
      "Wall time: 1min 54s\n"
     ]
    },
    {
     "data": {
      "text/plain": [
       "(3234119, 23)"
      ]
     },
     "execution_count": 7,
     "metadata": {},
     "output_type": "execute_result"
    }
   ],
   "source": [
    "%%time\n",
    "train_distinct = train.drop(columns=['id']).drop_duplicates()\n",
    "train_distinct.shape"
   ]
  },
  {
   "cell_type": "code",
   "execution_count": 22,
   "id": "instant-discharge",
   "metadata": {},
   "outputs": [
    {
     "data": {
      "text/plain": [
       "0    2170735\n",
       "1    1063384\n",
       "Name: click, dtype: int64"
      ]
     },
     "execution_count": 22,
     "metadata": {},
     "output_type": "execute_result"
    }
   ],
   "source": [
    "train_distinct.click.value_counts()"
   ]
  },
  {
   "cell_type": "code",
   "execution_count": 23,
   "id": "cutting-regulation",
   "metadata": {},
   "outputs": [
    {
     "name": "stdout",
     "output_type": "stream",
     "text": [
      "CPU times: user 3.31 s, sys: 83.6 ms, total: 3.39 s\n",
      "Wall time: 3.41 s\n"
     ]
    },
    {
     "data": {
      "text/plain": [
       "(970236, 23)"
      ]
     },
     "execution_count": 23,
     "metadata": {},
     "output_type": "execute_result"
    }
   ],
   "source": [
    "%%time\n",
    "train_sample = train_distinct.sample(frac=0.3, replace=True, random_state=42)\n",
    "train_sample.shape"
   ]
  },
  {
   "cell_type": "code",
   "execution_count": 24,
   "id": "temporal-petersburg",
   "metadata": {},
   "outputs": [
    {
     "data": {
      "text/plain": [
       "0    650447\n",
       "1    319789\n",
       "Name: click, dtype: int64"
      ]
     },
     "execution_count": 24,
     "metadata": {},
     "output_type": "execute_result"
    }
   ],
   "source": [
    "train_sample.click.value_counts()"
   ]
  },
  {
   "cell_type": "code",
   "execution_count": 11,
   "id": "fiscal-incident",
   "metadata": {},
   "outputs": [
    {
     "data": {
      "text/plain": [
       "C1_fix                     4\n",
       "banner_pos_fix             4\n",
       "site_id_fix_fix           27\n",
       "site_domain_fix_fix       25\n",
       "site_category_fix_fix      4\n",
       "app_id_fix_fix            17\n",
       "app_domain_fix_fix         8\n",
       "app_category_fix_fix       3\n",
       "device_id_fix_fix          2\n",
       "device_ip_fix_fix         14\n",
       "device_model_fix_fix      95\n",
       "device_type_fix            3\n",
       "device_conn_type_fix       2\n",
       "C14_fix_fix              116\n",
       "C15_fix                    2\n",
       "C16_fix                    3\n",
       "C17_fix_fix               64\n",
       "C18_fix                    2\n",
       "C19_fix_fix               14\n",
       "C20_fix_fix               22\n",
       "C21_fix                   17\n",
       "hour_fix_fix              24\n",
       "dtype: int64"
      ]
     },
     "execution_count": 11,
     "metadata": {},
     "output_type": "execute_result"
    }
   ],
   "source": [
    "train_sample[f_cols].nunique()"
   ]
  },
  {
   "cell_type": "code",
   "execution_count": 25,
   "id": "industrial-newark",
   "metadata": {},
   "outputs": [
    {
     "data": {
      "text/html": [
       "<div>\n",
       "<style scoped>\n",
       "    .dataframe tbody tr th:only-of-type {\n",
       "        vertical-align: middle;\n",
       "    }\n",
       "\n",
       "    .dataframe tbody tr th {\n",
       "        vertical-align: top;\n",
       "    }\n",
       "\n",
       "    .dataframe thead th {\n",
       "        text-align: right;\n",
       "    }\n",
       "</style>\n",
       "<table border=\"1\" class=\"dataframe\">\n",
       "  <thead>\n",
       "    <tr style=\"text-align: right;\">\n",
       "      <th></th>\n",
       "      <th>click</th>\n",
       "      <th>C1_fix</th>\n",
       "      <th>banner_pos_fix</th>\n",
       "      <th>site_id_fix_fix</th>\n",
       "      <th>site_domain_fix_fix</th>\n",
       "      <th>site_category_fix_fix</th>\n",
       "      <th>app_id_fix_fix</th>\n",
       "      <th>app_domain_fix_fix</th>\n",
       "      <th>app_category_fix_fix</th>\n",
       "      <th>device_id_fix_fix</th>\n",
       "      <th>...</th>\n",
       "      <th>device_conn_type_fix</th>\n",
       "      <th>C14_fix_fix</th>\n",
       "      <th>C15_fix</th>\n",
       "      <th>C16_fix</th>\n",
       "      <th>C17_fix_fix</th>\n",
       "      <th>C18_fix</th>\n",
       "      <th>C19_fix_fix</th>\n",
       "      <th>C20_fix_fix</th>\n",
       "      <th>C21_fix</th>\n",
       "      <th>hour_fix_fix</th>\n",
       "    </tr>\n",
       "  </thead>\n",
       "  <tbody>\n",
       "    <tr>\n",
       "      <th>24138531</th>\n",
       "      <td>1</td>\n",
       "      <td>1005</td>\n",
       "      <td>0</td>\n",
       "      <td>d6137915</td>\n",
       "      <td>bb1ef334</td>\n",
       "      <td>f028772b</td>\n",
       "      <td>ecad2386</td>\n",
       "      <td>7801e8d9</td>\n",
       "      <td>07d7df22</td>\n",
       "      <td>a99f214a</td>\n",
       "      <td>...</td>\n",
       "      <td>0</td>\n",
       "      <td>20213</td>\n",
       "      <td>DNP</td>\n",
       "      <td>DNP</td>\n",
       "      <td>2316</td>\n",
       "      <td>DNP</td>\n",
       "      <td>167</td>\n",
       "      <td>100081</td>\n",
       "      <td>16</td>\n",
       "      <td>3</td>\n",
       "    </tr>\n",
       "    <tr>\n",
       "      <th>32776850</th>\n",
       "      <td>1</td>\n",
       "      <td>1005</td>\n",
       "      <td>0</td>\n",
       "      <td>DNP</td>\n",
       "      <td>DNP</td>\n",
       "      <td>DNP</td>\n",
       "      <td>DNP</td>\n",
       "      <td>DNP</td>\n",
       "      <td>DNP</td>\n",
       "      <td>a99f214a</td>\n",
       "      <td>...</td>\n",
       "      <td>0</td>\n",
       "      <td>22257</td>\n",
       "      <td>DNP</td>\n",
       "      <td>DNP</td>\n",
       "      <td>2545</td>\n",
       "      <td>DNP</td>\n",
       "      <td>167</td>\n",
       "      <td>-1</td>\n",
       "      <td>221</td>\n",
       "      <td>3</td>\n",
       "    </tr>\n",
       "    <tr>\n",
       "      <th>24318109</th>\n",
       "      <td>0</td>\n",
       "      <td>1005</td>\n",
       "      <td>0</td>\n",
       "      <td>DNP</td>\n",
       "      <td>DNP</td>\n",
       "      <td>DNP</td>\n",
       "      <td>9c13b419</td>\n",
       "      <td>DNP</td>\n",
       "      <td>f95efa07</td>\n",
       "      <td>a99f214a</td>\n",
       "      <td>...</td>\n",
       "      <td>0</td>\n",
       "      <td>18092</td>\n",
       "      <td>DNP</td>\n",
       "      <td>DNP</td>\n",
       "      <td>2060</td>\n",
       "      <td>DNP</td>\n",
       "      <td>39</td>\n",
       "      <td>-1</td>\n",
       "      <td>23</td>\n",
       "      <td>DNP</td>\n",
       "    </tr>\n",
       "    <tr>\n",
       "      <th>26586518</th>\n",
       "      <td>1</td>\n",
       "      <td>1005</td>\n",
       "      <td>0</td>\n",
       "      <td>1fbe01fe</td>\n",
       "      <td>f3845767</td>\n",
       "      <td>28905ebd</td>\n",
       "      <td>ecad2386</td>\n",
       "      <td>7801e8d9</td>\n",
       "      <td>07d7df22</td>\n",
       "      <td>a99f214a</td>\n",
       "      <td>...</td>\n",
       "      <td>0</td>\n",
       "      <td>22676</td>\n",
       "      <td>DNP</td>\n",
       "      <td>DNP</td>\n",
       "      <td>2616</td>\n",
       "      <td>DNP</td>\n",
       "      <td>35</td>\n",
       "      <td>100083</td>\n",
       "      <td>51</td>\n",
       "      <td>19</td>\n",
       "    </tr>\n",
       "    <tr>\n",
       "      <th>14957287</th>\n",
       "      <td>0</td>\n",
       "      <td>1005</td>\n",
       "      <td>1</td>\n",
       "      <td>DNP</td>\n",
       "      <td>DNP</td>\n",
       "      <td>f028772b</td>\n",
       "      <td>ecad2386</td>\n",
       "      <td>7801e8d9</td>\n",
       "      <td>07d7df22</td>\n",
       "      <td>a99f214a</td>\n",
       "      <td>...</td>\n",
       "      <td>0</td>\n",
       "      <td>DNP</td>\n",
       "      <td>DNP</td>\n",
       "      <td>DNP</td>\n",
       "      <td>DNP</td>\n",
       "      <td>2</td>\n",
       "      <td>39</td>\n",
       "      <td>100233</td>\n",
       "      <td>32</td>\n",
       "      <td>11</td>\n",
       "    </tr>\n",
       "  </tbody>\n",
       "</table>\n",
       "<p>5 rows × 23 columns</p>\n",
       "</div>"
      ],
      "text/plain": [
       "          click C1_fix banner_pos_fix site_id_fix_fix site_domain_fix_fix  \\\n",
       "24138531      1   1005              0        d6137915            bb1ef334   \n",
       "32776850      1   1005              0             DNP                 DNP   \n",
       "24318109      0   1005              0             DNP                 DNP   \n",
       "26586518      1   1005              0        1fbe01fe            f3845767   \n",
       "14957287      0   1005              1             DNP                 DNP   \n",
       "\n",
       "         site_category_fix_fix app_id_fix_fix app_domain_fix_fix  \\\n",
       "24138531              f028772b       ecad2386           7801e8d9   \n",
       "32776850                   DNP            DNP                DNP   \n",
       "24318109                   DNP       9c13b419                DNP   \n",
       "26586518              28905ebd       ecad2386           7801e8d9   \n",
       "14957287              f028772b       ecad2386           7801e8d9   \n",
       "\n",
       "         app_category_fix_fix device_id_fix_fix  ... device_conn_type_fix  \\\n",
       "24138531             07d7df22          a99f214a  ...                    0   \n",
       "32776850                  DNP          a99f214a  ...                    0   \n",
       "24318109             f95efa07          a99f214a  ...                    0   \n",
       "26586518             07d7df22          a99f214a  ...                    0   \n",
       "14957287             07d7df22          a99f214a  ...                    0   \n",
       "\n",
       "         C14_fix_fix C15_fix C16_fix C17_fix_fix C18_fix C19_fix_fix  \\\n",
       "24138531       20213     DNP     DNP        2316     DNP         167   \n",
       "32776850       22257     DNP     DNP        2545     DNP         167   \n",
       "24318109       18092     DNP     DNP        2060     DNP          39   \n",
       "26586518       22676     DNP     DNP        2616     DNP          35   \n",
       "14957287         DNP     DNP     DNP         DNP       2          39   \n",
       "\n",
       "         C20_fix_fix C21_fix hour_fix_fix  \n",
       "24138531      100081      16            3  \n",
       "32776850          -1     221            3  \n",
       "24318109          -1      23          DNP  \n",
       "26586518      100083      51           19  \n",
       "14957287      100233      32           11  \n",
       "\n",
       "[5 rows x 23 columns]"
      ]
     },
     "execution_count": 25,
     "metadata": {},
     "output_type": "execute_result"
    }
   ],
   "source": [
    "train_sample.head()"
   ]
  },
  {
   "cell_type": "code",
   "execution_count": 26,
   "id": "threatened-father",
   "metadata": {},
   "outputs": [],
   "source": [
    "x = train_sample.drop(columns=['click'])\n",
    "y = train_sample[['click']]"
   ]
  },
  {
   "cell_type": "code",
   "execution_count": 27,
   "id": "chemical-cookbook",
   "metadata": {},
   "outputs": [
    {
     "name": "stdout",
     "output_type": "stream",
     "text": [
      "CPU times: user 4.54 s, sys: 465 ms, total: 5 s\n",
      "Wall time: 5.02 s\n"
     ]
    },
    {
     "data": {
      "text/plain": [
       "((970236, 472), (970236, 1))"
      ]
     },
     "execution_count": 27,
     "metadata": {},
     "output_type": "execute_result"
    }
   ],
   "source": [
    "%%time\n",
    "x = pd.get_dummies(x)\n",
    "x.shape, y.shape"
   ]
  },
  {
   "cell_type": "code",
   "execution_count": 28,
   "id": "daily-essay",
   "metadata": {},
   "outputs": [
    {
     "name": "stdout",
     "output_type": "stream",
     "text": [
      "CPU times: user 3.69 s, sys: 550 ms, total: 4.24 s\n",
      "Wall time: 4.27 s\n"
     ]
    }
   ],
   "source": [
    "%%time\n",
    "x_train, x_test, y_train, y_test = train_test_split(x, y, test_size=0.2, random_state=42)"
   ]
  },
  {
   "cell_type": "code",
   "execution_count": null,
   "id": "improving-launch",
   "metadata": {},
   "outputs": [
    {
     "name": "stdout",
     "output_type": "stream",
     "text": [
      "Fitting 5 folds for each of 12 candidates, totalling 60 fits\n"
     ]
    }
   ],
   "source": [
    "%%time\n",
    "para_search = {'criterion':['gini','entropy'],'max_depth':[i for i in range(20, 50, 5)]}\n",
    "gs = GridSearchCV(dt(), param_grid=para_search, scoring='recall', verbose=1, n_jobs=-1)\n",
    "gs.fit(x_train, y_train)"
   ]
  },
  {
   "cell_type": "code",
   "execution_count": 19,
   "id": "super-probability",
   "metadata": {},
   "outputs": [
    {
     "data": {
      "text/plain": [
       "{'criterion': 'gini', 'max_depth': 18}"
      ]
     },
     "execution_count": 19,
     "metadata": {},
     "output_type": "execute_result"
    }
   ],
   "source": [
    "gs.best_params_"
   ]
  },
  {
   "cell_type": "code",
   "execution_count": 20,
   "id": "toxic-invalid",
   "metadata": {},
   "outputs": [
    {
     "data": {
      "text/plain": [
       "0.10828391975957437"
      ]
     },
     "execution_count": 20,
     "metadata": {},
     "output_type": "execute_result"
    }
   ],
   "source": [
    "gs.best_score_"
   ]
  },
  {
   "cell_type": "code",
   "execution_count": null,
   "id": "stock-metadata",
   "metadata": {},
   "outputs": [],
   "source": []
  }
 ],
 "metadata": {
  "kernelspec": {
   "display_name": "Python 3",
   "language": "python",
   "name": "python3"
  },
  "language_info": {
   "codemirror_mode": {
    "name": "ipython",
    "version": 3
   },
   "file_extension": ".py",
   "mimetype": "text/x-python",
   "name": "python",
   "nbconvert_exporter": "python",
   "pygments_lexer": "ipython3",
   "version": "3.7.8"
  }
 },
 "nbformat": 4,
 "nbformat_minor": 5
}
