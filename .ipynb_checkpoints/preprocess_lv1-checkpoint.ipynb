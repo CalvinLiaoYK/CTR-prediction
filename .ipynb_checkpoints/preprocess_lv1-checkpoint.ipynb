{
 "cells": [
  {
   "cell_type": "code",
   "execution_count": 1,
   "id": "significant-article",
   "metadata": {},
   "outputs": [],
   "source": [
    "import pandas as pd\n",
    "import time\n",
    "from collections import defaultdict"
   ]
  },
  {
   "cell_type": "code",
   "execution_count": 2,
   "id": "informed-hawaii",
   "metadata": {},
   "outputs": [
    {
     "name": "stdout",
     "output_type": "stream",
     "text": [
      "CPU times: user 1min 56s, sys: 36.8 s, total: 2min 32s\n",
      "Wall time: 2min 43s\n"
     ]
    }
   ],
   "source": [
    "%%time\n",
    "train = pd.read_csv('./train')"
   ]
  },
  {
   "cell_type": "code",
   "execution_count": 4,
   "id": "suspected-peninsula",
   "metadata": {},
   "outputs": [
    {
     "data": {
      "text/plain": [
       "(40428967, 24)"
      ]
     },
     "execution_count": 4,
     "metadata": {},
     "output_type": "execute_result"
    }
   ],
   "source": [
    "train.shape"
   ]
  },
  {
   "cell_type": "code",
   "execution_count": 5,
   "id": "catholic-window",
   "metadata": {},
   "outputs": [
    {
     "data": {
      "text/html": [
       "<div>\n",
       "<style scoped>\n",
       "    .dataframe tbody tr th:only-of-type {\n",
       "        vertical-align: middle;\n",
       "    }\n",
       "\n",
       "    .dataframe tbody tr th {\n",
       "        vertical-align: top;\n",
       "    }\n",
       "\n",
       "    .dataframe thead th {\n",
       "        text-align: right;\n",
       "    }\n",
       "</style>\n",
       "<table border=\"1\" class=\"dataframe\">\n",
       "  <thead>\n",
       "    <tr style=\"text-align: right;\">\n",
       "      <th></th>\n",
       "      <th>id</th>\n",
       "      <th>click</th>\n",
       "      <th>hour</th>\n",
       "      <th>C1</th>\n",
       "      <th>banner_pos</th>\n",
       "      <th>site_id</th>\n",
       "      <th>site_domain</th>\n",
       "      <th>site_category</th>\n",
       "      <th>app_id</th>\n",
       "      <th>app_domain</th>\n",
       "      <th>...</th>\n",
       "      <th>device_type</th>\n",
       "      <th>device_conn_type</th>\n",
       "      <th>C14</th>\n",
       "      <th>C15</th>\n",
       "      <th>C16</th>\n",
       "      <th>C17</th>\n",
       "      <th>C18</th>\n",
       "      <th>C19</th>\n",
       "      <th>C20</th>\n",
       "      <th>C21</th>\n",
       "    </tr>\n",
       "  </thead>\n",
       "  <tbody>\n",
       "    <tr>\n",
       "      <th>0</th>\n",
       "      <td>1.000009e+18</td>\n",
       "      <td>0</td>\n",
       "      <td>14102100</td>\n",
       "      <td>1005</td>\n",
       "      <td>0</td>\n",
       "      <td>1fbe01fe</td>\n",
       "      <td>f3845767</td>\n",
       "      <td>28905ebd</td>\n",
       "      <td>ecad2386</td>\n",
       "      <td>7801e8d9</td>\n",
       "      <td>...</td>\n",
       "      <td>1</td>\n",
       "      <td>2</td>\n",
       "      <td>15706</td>\n",
       "      <td>320</td>\n",
       "      <td>50</td>\n",
       "      <td>1722</td>\n",
       "      <td>0</td>\n",
       "      <td>35</td>\n",
       "      <td>-1</td>\n",
       "      <td>79</td>\n",
       "    </tr>\n",
       "    <tr>\n",
       "      <th>1</th>\n",
       "      <td>1.000017e+19</td>\n",
       "      <td>0</td>\n",
       "      <td>14102100</td>\n",
       "      <td>1005</td>\n",
       "      <td>0</td>\n",
       "      <td>1fbe01fe</td>\n",
       "      <td>f3845767</td>\n",
       "      <td>28905ebd</td>\n",
       "      <td>ecad2386</td>\n",
       "      <td>7801e8d9</td>\n",
       "      <td>...</td>\n",
       "      <td>1</td>\n",
       "      <td>0</td>\n",
       "      <td>15704</td>\n",
       "      <td>320</td>\n",
       "      <td>50</td>\n",
       "      <td>1722</td>\n",
       "      <td>0</td>\n",
       "      <td>35</td>\n",
       "      <td>100084</td>\n",
       "      <td>79</td>\n",
       "    </tr>\n",
       "    <tr>\n",
       "      <th>2</th>\n",
       "      <td>1.000037e+19</td>\n",
       "      <td>0</td>\n",
       "      <td>14102100</td>\n",
       "      <td>1005</td>\n",
       "      <td>0</td>\n",
       "      <td>1fbe01fe</td>\n",
       "      <td>f3845767</td>\n",
       "      <td>28905ebd</td>\n",
       "      <td>ecad2386</td>\n",
       "      <td>7801e8d9</td>\n",
       "      <td>...</td>\n",
       "      <td>1</td>\n",
       "      <td>0</td>\n",
       "      <td>15704</td>\n",
       "      <td>320</td>\n",
       "      <td>50</td>\n",
       "      <td>1722</td>\n",
       "      <td>0</td>\n",
       "      <td>35</td>\n",
       "      <td>100084</td>\n",
       "      <td>79</td>\n",
       "    </tr>\n",
       "    <tr>\n",
       "      <th>3</th>\n",
       "      <td>1.000064e+19</td>\n",
       "      <td>0</td>\n",
       "      <td>14102100</td>\n",
       "      <td>1005</td>\n",
       "      <td>0</td>\n",
       "      <td>1fbe01fe</td>\n",
       "      <td>f3845767</td>\n",
       "      <td>28905ebd</td>\n",
       "      <td>ecad2386</td>\n",
       "      <td>7801e8d9</td>\n",
       "      <td>...</td>\n",
       "      <td>1</td>\n",
       "      <td>0</td>\n",
       "      <td>15706</td>\n",
       "      <td>320</td>\n",
       "      <td>50</td>\n",
       "      <td>1722</td>\n",
       "      <td>0</td>\n",
       "      <td>35</td>\n",
       "      <td>100084</td>\n",
       "      <td>79</td>\n",
       "    </tr>\n",
       "    <tr>\n",
       "      <th>4</th>\n",
       "      <td>1.000068e+19</td>\n",
       "      <td>0</td>\n",
       "      <td>14102100</td>\n",
       "      <td>1005</td>\n",
       "      <td>1</td>\n",
       "      <td>fe8cc448</td>\n",
       "      <td>9166c161</td>\n",
       "      <td>0569f928</td>\n",
       "      <td>ecad2386</td>\n",
       "      <td>7801e8d9</td>\n",
       "      <td>...</td>\n",
       "      <td>1</td>\n",
       "      <td>0</td>\n",
       "      <td>18993</td>\n",
       "      <td>320</td>\n",
       "      <td>50</td>\n",
       "      <td>2161</td>\n",
       "      <td>0</td>\n",
       "      <td>35</td>\n",
       "      <td>-1</td>\n",
       "      <td>157</td>\n",
       "    </tr>\n",
       "  </tbody>\n",
       "</table>\n",
       "<p>5 rows × 24 columns</p>\n",
       "</div>"
      ],
      "text/plain": [
       "             id  click      hour    C1  banner_pos   site_id site_domain  \\\n",
       "0  1.000009e+18      0  14102100  1005           0  1fbe01fe    f3845767   \n",
       "1  1.000017e+19      0  14102100  1005           0  1fbe01fe    f3845767   \n",
       "2  1.000037e+19      0  14102100  1005           0  1fbe01fe    f3845767   \n",
       "3  1.000064e+19      0  14102100  1005           0  1fbe01fe    f3845767   \n",
       "4  1.000068e+19      0  14102100  1005           1  fe8cc448    9166c161   \n",
       "\n",
       "  site_category    app_id app_domain  ... device_type device_conn_type    C14  \\\n",
       "0      28905ebd  ecad2386   7801e8d9  ...           1                2  15706   \n",
       "1      28905ebd  ecad2386   7801e8d9  ...           1                0  15704   \n",
       "2      28905ebd  ecad2386   7801e8d9  ...           1                0  15704   \n",
       "3      28905ebd  ecad2386   7801e8d9  ...           1                0  15706   \n",
       "4      0569f928  ecad2386   7801e8d9  ...           1                0  18993   \n",
       "\n",
       "   C15  C16   C17  C18  C19     C20  C21  \n",
       "0  320   50  1722    0   35      -1   79  \n",
       "1  320   50  1722    0   35  100084   79  \n",
       "2  320   50  1722    0   35  100084   79  \n",
       "3  320   50  1722    0   35  100084   79  \n",
       "4  320   50  2161    0   35      -1  157  \n",
       "\n",
       "[5 rows x 24 columns]"
      ]
     },
     "execution_count": 5,
     "metadata": {},
     "output_type": "execute_result"
    }
   ],
   "source": [
    "train.head()"
   ]
  },
  {
   "cell_type": "code",
   "execution_count": 6,
   "id": "fewer-novel",
   "metadata": {},
   "outputs": [
    {
     "data": {
      "text/plain": [
       "40428967"
      ]
     },
     "execution_count": 6,
     "metadata": {},
     "output_type": "execute_result"
    }
   ],
   "source": [
    "train['id'].nunique()"
   ]
  },
  {
   "cell_type": "code",
   "execution_count": 7,
   "id": "looking-hungarian",
   "metadata": {},
   "outputs": [
    {
     "data": {
      "text/plain": [
       "0    33563901\n",
       "1     6865066\n",
       "Name: click, dtype: int64"
      ]
     },
     "execution_count": 7,
     "metadata": {},
     "output_type": "execute_result"
    }
   ],
   "source": [
    "train['click'].value_counts()"
   ]
  },
  {
   "cell_type": "code",
   "execution_count": 7,
   "id": "previous-freeware",
   "metadata": {},
   "outputs": [
    {
     "name": "stdout",
     "output_type": "stream",
     "text": [
      "CPU times: user 1min 20s, sys: 36.2 s, total: 1min 56s\n",
      "Wall time: 2min 6s\n"
     ]
    },
    {
     "data": {
      "text/plain": [
       "id                  40428967\n",
       "click                      2\n",
       "hour                     240\n",
       "C1                         7\n",
       "banner_pos                 7\n",
       "site_id                 4737\n",
       "site_domain             7745\n",
       "site_category             26\n",
       "app_id                  8552\n",
       "app_domain               559\n",
       "app_category              36\n",
       "device_id            2686408\n",
       "device_ip            6729486\n",
       "device_model            8251\n",
       "device_type                5\n",
       "device_conn_type           4\n",
       "C14                     2626\n",
       "C15                        8\n",
       "C16                        9\n",
       "C17                      435\n",
       "C18                        4\n",
       "C19                       68\n",
       "C20                      172\n",
       "C21                       60\n",
       "dtype: int64"
      ]
     },
     "execution_count": 7,
     "metadata": {},
     "output_type": "execute_result"
    }
   ],
   "source": [
    "%%time\n",
    "train[train.columns.tolist()].nunique()"
   ]
  },
  {
   "cell_type": "code",
   "execution_count": 8,
   "id": "heard-characteristic",
   "metadata": {},
   "outputs": [
    {
     "data": {
      "text/plain": [
       "id                  float64\n",
       "click                 int64\n",
       "hour                  int64\n",
       "C1                    int64\n",
       "banner_pos            int64\n",
       "site_id              object\n",
       "site_domain          object\n",
       "site_category        object\n",
       "app_id               object\n",
       "app_domain           object\n",
       "app_category         object\n",
       "device_id            object\n",
       "device_ip            object\n",
       "device_model         object\n",
       "device_type           int64\n",
       "device_conn_type      int64\n",
       "C14                   int64\n",
       "C15                   int64\n",
       "C16                   int64\n",
       "C17                   int64\n",
       "C18                   int64\n",
       "C19                   int64\n",
       "C20                   int64\n",
       "C21                   int64\n",
       "dtype: object"
      ]
     },
     "execution_count": 8,
     "metadata": {},
     "output_type": "execute_result"
    }
   ],
   "source": [
    "train.dtypes"
   ]
  },
  {
   "cell_type": "code",
   "execution_count": 9,
   "id": "graduate-technique",
   "metadata": {},
   "outputs": [
    {
     "name": "stdout",
     "output_type": "stream",
     "text": [
      "CPU times: user 23.8 s, sys: 51.1 s, total: 1min 14s\n",
      "Wall time: 1min 26s\n"
     ]
    }
   ],
   "source": [
    "%%time\n",
    "train = train.astype(object)"
   ]
  },
  {
   "cell_type": "markdown",
   "id": "primary-expert",
   "metadata": {},
   "source": [
    "## 調整時間變數"
   ]
  },
  {
   "cell_type": "code",
   "execution_count": 10,
   "id": "single-croatia",
   "metadata": {},
   "outputs": [],
   "source": [
    "train['year'] = train['hour'].astype(str).str[0:2]\n",
    "train['date'] = train['hour'].astype(str).str[2:6]\n",
    "train['hour_fix'] = train['hour'].astype(str).str[6:8]"
   ]
  },
  {
   "cell_type": "code",
   "execution_count": 11,
   "id": "experimental-breast",
   "metadata": {},
   "outputs": [
    {
     "data": {
      "text/plain": [
       "year         1\n",
       "date        10\n",
       "hour_fix    24\n",
       "dtype: int64"
      ]
     },
     "execution_count": 11,
     "metadata": {},
     "output_type": "execute_result"
    }
   ],
   "source": [
    "train[['year', 'date', 'hour_fix']].nunique()"
   ]
  },
  {
   "cell_type": "code",
   "execution_count": 11,
   "id": "representative-asian",
   "metadata": {},
   "outputs": [
    {
     "data": {
      "text/html": [
       "<div>\n",
       "<style scoped>\n",
       "    .dataframe tbody tr th:only-of-type {\n",
       "        vertical-align: middle;\n",
       "    }\n",
       "\n",
       "    .dataframe tbody tr th {\n",
       "        vertical-align: top;\n",
       "    }\n",
       "\n",
       "    .dataframe thead th {\n",
       "        text-align: right;\n",
       "    }\n",
       "</style>\n",
       "<table border=\"1\" class=\"dataframe\">\n",
       "  <thead>\n",
       "    <tr style=\"text-align: right;\">\n",
       "      <th></th>\n",
       "      <th>id</th>\n",
       "      <th>click</th>\n",
       "      <th>hour</th>\n",
       "      <th>C1</th>\n",
       "      <th>banner_pos</th>\n",
       "      <th>site_id</th>\n",
       "      <th>site_domain</th>\n",
       "      <th>site_category</th>\n",
       "      <th>app_id</th>\n",
       "      <th>app_domain</th>\n",
       "      <th>...</th>\n",
       "      <th>C15</th>\n",
       "      <th>C16</th>\n",
       "      <th>C17</th>\n",
       "      <th>C18</th>\n",
       "      <th>C19</th>\n",
       "      <th>C20</th>\n",
       "      <th>C21</th>\n",
       "      <th>year</th>\n",
       "      <th>date</th>\n",
       "      <th>hour_fix</th>\n",
       "    </tr>\n",
       "  </thead>\n",
       "  <tbody>\n",
       "    <tr>\n",
       "      <th>0</th>\n",
       "      <td>1000009418151094272.0</td>\n",
       "      <td>0</td>\n",
       "      <td>14102100</td>\n",
       "      <td>1005</td>\n",
       "      <td>0</td>\n",
       "      <td>1fbe01fe</td>\n",
       "      <td>f3845767</td>\n",
       "      <td>28905ebd</td>\n",
       "      <td>ecad2386</td>\n",
       "      <td>7801e8d9</td>\n",
       "      <td>...</td>\n",
       "      <td>320</td>\n",
       "      <td>50</td>\n",
       "      <td>1722</td>\n",
       "      <td>0</td>\n",
       "      <td>35</td>\n",
       "      <td>-1</td>\n",
       "      <td>79</td>\n",
       "      <td>14</td>\n",
       "      <td>1021</td>\n",
       "      <td>00</td>\n",
       "    </tr>\n",
       "    <tr>\n",
       "      <th>1</th>\n",
       "      <td>10000169349117863936.0</td>\n",
       "      <td>0</td>\n",
       "      <td>14102100</td>\n",
       "      <td>1005</td>\n",
       "      <td>0</td>\n",
       "      <td>1fbe01fe</td>\n",
       "      <td>f3845767</td>\n",
       "      <td>28905ebd</td>\n",
       "      <td>ecad2386</td>\n",
       "      <td>7801e8d9</td>\n",
       "      <td>...</td>\n",
       "      <td>320</td>\n",
       "      <td>50</td>\n",
       "      <td>1722</td>\n",
       "      <td>0</td>\n",
       "      <td>35</td>\n",
       "      <td>100084</td>\n",
       "      <td>79</td>\n",
       "      <td>14</td>\n",
       "      <td>1021</td>\n",
       "      <td>00</td>\n",
       "    </tr>\n",
       "    <tr>\n",
       "      <th>2</th>\n",
       "      <td>10000371904215119872.0</td>\n",
       "      <td>0</td>\n",
       "      <td>14102100</td>\n",
       "      <td>1005</td>\n",
       "      <td>0</td>\n",
       "      <td>1fbe01fe</td>\n",
       "      <td>f3845767</td>\n",
       "      <td>28905ebd</td>\n",
       "      <td>ecad2386</td>\n",
       "      <td>7801e8d9</td>\n",
       "      <td>...</td>\n",
       "      <td>320</td>\n",
       "      <td>50</td>\n",
       "      <td>1722</td>\n",
       "      <td>0</td>\n",
       "      <td>35</td>\n",
       "      <td>100084</td>\n",
       "      <td>79</td>\n",
       "      <td>14</td>\n",
       "      <td>1021</td>\n",
       "      <td>00</td>\n",
       "    </tr>\n",
       "    <tr>\n",
       "      <th>3</th>\n",
       "      <td>10000640724480837632.0</td>\n",
       "      <td>0</td>\n",
       "      <td>14102100</td>\n",
       "      <td>1005</td>\n",
       "      <td>0</td>\n",
       "      <td>1fbe01fe</td>\n",
       "      <td>f3845767</td>\n",
       "      <td>28905ebd</td>\n",
       "      <td>ecad2386</td>\n",
       "      <td>7801e8d9</td>\n",
       "      <td>...</td>\n",
       "      <td>320</td>\n",
       "      <td>50</td>\n",
       "      <td>1722</td>\n",
       "      <td>0</td>\n",
       "      <td>35</td>\n",
       "      <td>100084</td>\n",
       "      <td>79</td>\n",
       "      <td>14</td>\n",
       "      <td>1021</td>\n",
       "      <td>00</td>\n",
       "    </tr>\n",
       "    <tr>\n",
       "      <th>4</th>\n",
       "      <td>10000679056417042432.0</td>\n",
       "      <td>0</td>\n",
       "      <td>14102100</td>\n",
       "      <td>1005</td>\n",
       "      <td>1</td>\n",
       "      <td>fe8cc448</td>\n",
       "      <td>9166c161</td>\n",
       "      <td>0569f928</td>\n",
       "      <td>ecad2386</td>\n",
       "      <td>7801e8d9</td>\n",
       "      <td>...</td>\n",
       "      <td>320</td>\n",
       "      <td>50</td>\n",
       "      <td>2161</td>\n",
       "      <td>0</td>\n",
       "      <td>35</td>\n",
       "      <td>-1</td>\n",
       "      <td>157</td>\n",
       "      <td>14</td>\n",
       "      <td>1021</td>\n",
       "      <td>00</td>\n",
       "    </tr>\n",
       "  </tbody>\n",
       "</table>\n",
       "<p>5 rows × 27 columns</p>\n",
       "</div>"
      ],
      "text/plain": [
       "                       id click      hour    C1 banner_pos   site_id  \\\n",
       "0   1000009418151094272.0     0  14102100  1005          0  1fbe01fe   \n",
       "1  10000169349117863936.0     0  14102100  1005          0  1fbe01fe   \n",
       "2  10000371904215119872.0     0  14102100  1005          0  1fbe01fe   \n",
       "3  10000640724480837632.0     0  14102100  1005          0  1fbe01fe   \n",
       "4  10000679056417042432.0     0  14102100  1005          1  fe8cc448   \n",
       "\n",
       "  site_domain site_category    app_id app_domain  ...  C15 C16   C17 C18 C19  \\\n",
       "0    f3845767      28905ebd  ecad2386   7801e8d9  ...  320  50  1722   0  35   \n",
       "1    f3845767      28905ebd  ecad2386   7801e8d9  ...  320  50  1722   0  35   \n",
       "2    f3845767      28905ebd  ecad2386   7801e8d9  ...  320  50  1722   0  35   \n",
       "3    f3845767      28905ebd  ecad2386   7801e8d9  ...  320  50  1722   0  35   \n",
       "4    9166c161      0569f928  ecad2386   7801e8d9  ...  320  50  2161   0  35   \n",
       "\n",
       "      C20  C21 year  date hour_fix  \n",
       "0      -1   79   14  1021       00  \n",
       "1  100084   79   14  1021       00  \n",
       "2  100084   79   14  1021       00  \n",
       "3  100084   79   14  1021       00  \n",
       "4      -1  157   14  1021       00  \n",
       "\n",
       "[5 rows x 27 columns]"
      ]
     },
     "execution_count": 11,
     "metadata": {},
     "output_type": "execute_result"
    }
   ],
   "source": [
    "train.head()"
   ]
  },
  {
   "cell_type": "code",
   "execution_count": 16,
   "id": "middle-market",
   "metadata": {},
   "outputs": [
    {
     "data": {
      "text/plain": [
       "array(['00', '01', '02', '03', '04', '05', '06', '07', '08', '09', '10',\n",
       "       '11', '12', '13', '14', '15', '16', '17', '18', '19', '20', '21',\n",
       "       '22', '23'], dtype=object)"
      ]
     },
     "execution_count": 16,
     "metadata": {},
     "output_type": "execute_result"
    }
   ],
   "source": [
    "train['hour_fix'].unique()"
   ]
  },
  {
   "cell_type": "code",
   "execution_count": 14,
   "id": "biological-artwork",
   "metadata": {},
   "outputs": [
    {
     "data": {
      "text/html": [
       "<div>\n",
       "<style scoped>\n",
       "    .dataframe tbody tr th:only-of-type {\n",
       "        vertical-align: middle;\n",
       "    }\n",
       "\n",
       "    .dataframe tbody tr th {\n",
       "        vertical-align: top;\n",
       "    }\n",
       "\n",
       "    .dataframe thead th {\n",
       "        text-align: right;\n",
       "    }\n",
       "</style>\n",
       "<table border=\"1\" class=\"dataframe\">\n",
       "  <thead>\n",
       "    <tr style=\"text-align: right;\">\n",
       "      <th></th>\n",
       "      <th>id</th>\n",
       "      <th>click</th>\n",
       "      <th>C1</th>\n",
       "      <th>banner_pos</th>\n",
       "      <th>site_id</th>\n",
       "      <th>site_domain</th>\n",
       "      <th>site_category</th>\n",
       "      <th>app_id</th>\n",
       "      <th>app_domain</th>\n",
       "      <th>app_category</th>\n",
       "      <th>...</th>\n",
       "      <th>device_conn_type</th>\n",
       "      <th>C14</th>\n",
       "      <th>C15</th>\n",
       "      <th>C16</th>\n",
       "      <th>C17</th>\n",
       "      <th>C18</th>\n",
       "      <th>C19</th>\n",
       "      <th>C20</th>\n",
       "      <th>C21</th>\n",
       "      <th>hour_fix</th>\n",
       "    </tr>\n",
       "  </thead>\n",
       "  <tbody>\n",
       "    <tr>\n",
       "      <th>0</th>\n",
       "      <td>1000009418151094272.0</td>\n",
       "      <td>0</td>\n",
       "      <td>1005</td>\n",
       "      <td>0</td>\n",
       "      <td>1fbe01fe</td>\n",
       "      <td>f3845767</td>\n",
       "      <td>28905ebd</td>\n",
       "      <td>ecad2386</td>\n",
       "      <td>7801e8d9</td>\n",
       "      <td>07d7df22</td>\n",
       "      <td>...</td>\n",
       "      <td>2</td>\n",
       "      <td>15706</td>\n",
       "      <td>320</td>\n",
       "      <td>50</td>\n",
       "      <td>1722</td>\n",
       "      <td>0</td>\n",
       "      <td>35</td>\n",
       "      <td>-1</td>\n",
       "      <td>79</td>\n",
       "      <td>00</td>\n",
       "    </tr>\n",
       "    <tr>\n",
       "      <th>1</th>\n",
       "      <td>10000169349117863936.0</td>\n",
       "      <td>0</td>\n",
       "      <td>1005</td>\n",
       "      <td>0</td>\n",
       "      <td>1fbe01fe</td>\n",
       "      <td>f3845767</td>\n",
       "      <td>28905ebd</td>\n",
       "      <td>ecad2386</td>\n",
       "      <td>7801e8d9</td>\n",
       "      <td>07d7df22</td>\n",
       "      <td>...</td>\n",
       "      <td>0</td>\n",
       "      <td>15704</td>\n",
       "      <td>320</td>\n",
       "      <td>50</td>\n",
       "      <td>1722</td>\n",
       "      <td>0</td>\n",
       "      <td>35</td>\n",
       "      <td>100084</td>\n",
       "      <td>79</td>\n",
       "      <td>00</td>\n",
       "    </tr>\n",
       "    <tr>\n",
       "      <th>2</th>\n",
       "      <td>10000371904215119872.0</td>\n",
       "      <td>0</td>\n",
       "      <td>1005</td>\n",
       "      <td>0</td>\n",
       "      <td>1fbe01fe</td>\n",
       "      <td>f3845767</td>\n",
       "      <td>28905ebd</td>\n",
       "      <td>ecad2386</td>\n",
       "      <td>7801e8d9</td>\n",
       "      <td>07d7df22</td>\n",
       "      <td>...</td>\n",
       "      <td>0</td>\n",
       "      <td>15704</td>\n",
       "      <td>320</td>\n",
       "      <td>50</td>\n",
       "      <td>1722</td>\n",
       "      <td>0</td>\n",
       "      <td>35</td>\n",
       "      <td>100084</td>\n",
       "      <td>79</td>\n",
       "      <td>00</td>\n",
       "    </tr>\n",
       "    <tr>\n",
       "      <th>3</th>\n",
       "      <td>10000640724480837632.0</td>\n",
       "      <td>0</td>\n",
       "      <td>1005</td>\n",
       "      <td>0</td>\n",
       "      <td>1fbe01fe</td>\n",
       "      <td>f3845767</td>\n",
       "      <td>28905ebd</td>\n",
       "      <td>ecad2386</td>\n",
       "      <td>7801e8d9</td>\n",
       "      <td>07d7df22</td>\n",
       "      <td>...</td>\n",
       "      <td>0</td>\n",
       "      <td>15706</td>\n",
       "      <td>320</td>\n",
       "      <td>50</td>\n",
       "      <td>1722</td>\n",
       "      <td>0</td>\n",
       "      <td>35</td>\n",
       "      <td>100084</td>\n",
       "      <td>79</td>\n",
       "      <td>00</td>\n",
       "    </tr>\n",
       "    <tr>\n",
       "      <th>4</th>\n",
       "      <td>10000679056417042432.0</td>\n",
       "      <td>0</td>\n",
       "      <td>1005</td>\n",
       "      <td>1</td>\n",
       "      <td>fe8cc448</td>\n",
       "      <td>9166c161</td>\n",
       "      <td>0569f928</td>\n",
       "      <td>ecad2386</td>\n",
       "      <td>7801e8d9</td>\n",
       "      <td>07d7df22</td>\n",
       "      <td>...</td>\n",
       "      <td>0</td>\n",
       "      <td>18993</td>\n",
       "      <td>320</td>\n",
       "      <td>50</td>\n",
       "      <td>2161</td>\n",
       "      <td>0</td>\n",
       "      <td>35</td>\n",
       "      <td>-1</td>\n",
       "      <td>157</td>\n",
       "      <td>00</td>\n",
       "    </tr>\n",
       "  </tbody>\n",
       "</table>\n",
       "<p>5 rows × 24 columns</p>\n",
       "</div>"
      ],
      "text/plain": [
       "                       id click    C1 banner_pos   site_id site_domain  \\\n",
       "0   1000009418151094272.0     0  1005          0  1fbe01fe    f3845767   \n",
       "1  10000169349117863936.0     0  1005          0  1fbe01fe    f3845767   \n",
       "2  10000371904215119872.0     0  1005          0  1fbe01fe    f3845767   \n",
       "3  10000640724480837632.0     0  1005          0  1fbe01fe    f3845767   \n",
       "4  10000679056417042432.0     0  1005          1  fe8cc448    9166c161   \n",
       "\n",
       "  site_category    app_id app_domain app_category  ... device_conn_type  \\\n",
       "0      28905ebd  ecad2386   7801e8d9     07d7df22  ...                2   \n",
       "1      28905ebd  ecad2386   7801e8d9     07d7df22  ...                0   \n",
       "2      28905ebd  ecad2386   7801e8d9     07d7df22  ...                0   \n",
       "3      28905ebd  ecad2386   7801e8d9     07d7df22  ...                0   \n",
       "4      0569f928  ecad2386   7801e8d9     07d7df22  ...                0   \n",
       "\n",
       "     C14  C15 C16   C17 C18 C19     C20  C21 hour_fix  \n",
       "0  15706  320  50  1722   0  35      -1   79       00  \n",
       "1  15704  320  50  1722   0  35  100084   79       00  \n",
       "2  15704  320  50  1722   0  35  100084   79       00  \n",
       "3  15706  320  50  1722   0  35  100084   79       00  \n",
       "4  18993  320  50  2161   0  35      -1  157       00  \n",
       "\n",
       "[5 rows x 24 columns]"
      ]
     },
     "execution_count": 14,
     "metadata": {},
     "output_type": "execute_result"
    }
   ],
   "source": [
    "train = train.drop(columns=['year', 'date', 'hour'])\n",
    "train.head()"
   ]
  },
  {
   "cell_type": "markdown",
   "id": "defensive-trademark",
   "metadata": {},
   "source": [
    "## 點擊資料觀察"
   ]
  },
  {
   "cell_type": "code",
   "execution_count": 15,
   "id": "protecting-sculpture",
   "metadata": {},
   "outputs": [],
   "source": [
    "f_cols = train.columns.tolist()\n",
    "f_cols.remove('id')\n",
    "f_cols.remove('click')"
   ]
  },
  {
   "cell_type": "code",
   "execution_count": 17,
   "id": "tender-turner",
   "metadata": {},
   "outputs": [],
   "source": [
    "train_cli = train[train['click']==1][f_cols]"
   ]
  },
  {
   "cell_type": "code",
   "execution_count": 18,
   "id": "moral-intervention",
   "metadata": {},
   "outputs": [
    {
     "data": {
      "text/plain": [
       "C1                        7\n",
       "banner_pos                7\n",
       "site_id                3477\n",
       "site_domain            4565\n",
       "site_category            21\n",
       "app_id                 4904\n",
       "app_domain              295\n",
       "app_category             27\n",
       "device_id            655198\n",
       "device_ip           2268792\n",
       "device_model           6528\n",
       "device_type               5\n",
       "device_conn_type          4\n",
       "C14                    2414\n",
       "C15                       8\n",
       "C16                       9\n",
       "C17                     425\n",
       "C18                       4\n",
       "C19                      67\n",
       "C20                     166\n",
       "C21                      60\n",
       "hour_fix                 24\n",
       "dtype: int64"
      ]
     },
     "execution_count": 18,
     "metadata": {},
     "output_type": "execute_result"
    }
   ],
   "source": [
    "train_cli[f_cols].nunique()"
   ]
  },
  {
   "cell_type": "code",
   "execution_count": 19,
   "id": "pretty-keyboard",
   "metadata": {},
   "outputs": [
    {
     "name": "stdout",
     "output_type": "stream",
     "text": [
      "CPU times: user 1min 23s, sys: 30.1 s, total: 1min 53s\n",
      "Wall time: 2min 11s\n"
     ]
    }
   ],
   "source": [
    "%%time\n",
    "col_all = defaultdict(list)\n",
    "col_cli = defaultdict(list)\n",
    "col_del = defaultdict(list)\n",
    "\n",
    "for col in f_cols:\n",
    "    col_all[col] = train[col].unique().tolist()\n",
    "    col_cli[col] = train_cli[col].unique().tolist()\n",
    "    col_del[col] = list(set(col_all[col]) - set(col_cli[col]))"
   ]
  },
  {
   "cell_type": "code",
   "execution_count": 20,
   "id": "micro-colombia",
   "metadata": {},
   "outputs": [
    {
     "name": "stdout",
     "output_type": "stream",
     "text": [
      "C1 7 7 0\n",
      "banner_pos 7 7 0\n",
      "site_id 4737 3477 1260\n",
      "site_domain 7745 4565 3180\n",
      "site_category 26 21 5\n",
      "app_id 8552 4904 3648\n",
      "app_domain 559 295 264\n",
      "app_category 36 27 9\n",
      "device_id 2686408 655198 2031210\n",
      "device_ip 6729486 2268792 4460694\n",
      "device_model 8251 6528 1723\n",
      "device_type 5 5 0\n",
      "device_conn_type 4 4 0\n",
      "C14 2626 2414 212\n",
      "C15 8 8 0\n",
      "C16 9 9 0\n",
      "C17 435 425 10\n",
      "C18 4 4 0\n",
      "C19 68 67 1\n",
      "C20 172 166 6\n",
      "C21 60 60 0\n",
      "hour_fix 24 24 0\n"
     ]
    }
   ],
   "source": [
    "for col in f_cols:\n",
    "    print(col, len(col_all[col]), len(col_cli[col]), len(col_del[col]))"
   ]
  },
  {
   "cell_type": "code",
   "execution_count": 21,
   "id": "finished-reward",
   "metadata": {},
   "outputs": [
    {
     "name": "stdout",
     "output_type": "stream",
     "text": [
      "site_id 1260\n",
      "site_domain 3180\n",
      "site_category 5\n",
      "app_id 3648\n",
      "app_domain 264\n",
      "app_category 9\n",
      "device_id 2031210\n",
      "device_ip 4460694\n",
      "device_model 1723\n",
      "C14 212\n",
      "C17 10\n",
      "C19 1\n",
      "C20 6\n"
     ]
    }
   ],
   "source": [
    "for col in f_cols:\n",
    "    del_nums = len(col_del[col])\n",
    "    if del_nums > 0:\n",
    "        print(col, del_nums)"
   ]
  },
  {
   "cell_type": "code",
   "execution_count": 22,
   "id": "representative-helping",
   "metadata": {},
   "outputs": [],
   "source": [
    "# DNP mapping\n",
    "def dnp_mapping(col):\n",
    "    # col = 'site_id'\n",
    "    ts = time.time()\n",
    "    dnp_map = {k:'DNP' for k in col_del[col]}\n",
    "    train[f'{col}_fix'] = train[col].map(dnp_map).fillna(train[col])\n",
    "    te = time.time()\n",
    "    tcost = round(te - ts, 4)\n",
    "    print(f'{col} mapping cost: {tcost}')"
   ]
  },
  {
   "cell_type": "code",
   "execution_count": 23,
   "id": "compliant-shipping",
   "metadata": {},
   "outputs": [
    {
     "name": "stdout",
     "output_type": "stream",
     "text": [
      "site_id mapping cost: 9.8503\n",
      "site_domain mapping cost: 8.2672\n",
      "site_category mapping cost: 8.9544\n",
      "app_id mapping cost: 7.4722\n",
      "app_domain mapping cost: 8.5179\n",
      "app_category mapping cost: 8.3424\n",
      "device_id mapping cost: 17.6871\n",
      "device_ip mapping cost: 47.2957\n",
      "device_model mapping cost: 8.3618\n",
      "C14 mapping cost: 12.6206\n",
      "C17 mapping cost: 12.7206\n",
      "C19 mapping cost: 18.5008\n",
      "C20 mapping cost: 12.9624\n"
     ]
    }
   ],
   "source": [
    "for col in f_cols:\n",
    "    del_nums = len(col_del[col])\n",
    "    if del_nums > 0:\n",
    "        dnp_mapping(col)"
   ]
  },
  {
   "cell_type": "code",
   "execution_count": 30,
   "id": "technological-insured",
   "metadata": {},
   "outputs": [
    {
     "data": {
      "text/plain": [
       "Index(['id', 'click', 'C1', 'banner_pos', 'site_id', 'site_domain',\n",
       "       'site_category', 'app_id', 'app_domain', 'app_category', 'device_id',\n",
       "       'device_ip', 'device_model', 'device_type', 'device_conn_type', 'C14',\n",
       "       'C15', 'C16', 'C17', 'C18', 'C19', 'C20', 'C21', 'hour_fix',\n",
       "       'site_id_fix', 'site_domain_fix', 'site_category_fix', 'app_id_fix',\n",
       "       'app_domain_fix', 'app_category_fix', 'device_id_fix', 'device_ip_fix',\n",
       "       'device_model_fix', 'C14_fix', 'C17_fix', 'C19_fix', 'C20_fix'],\n",
       "      dtype='object')"
      ]
     },
     "execution_count": 30,
     "metadata": {},
     "output_type": "execute_result"
    }
   ],
   "source": [
    "train.columns"
   ]
  },
  {
   "cell_type": "code",
   "execution_count": 31,
   "id": "involved-essence",
   "metadata": {},
   "outputs": [
    {
     "data": {
      "text/plain": [
       "['id',\n",
       " 'click',\n",
       " 'C1',\n",
       " 'banner_pos',\n",
       " 'site_id_fix',\n",
       " 'site_domain_fix',\n",
       " 'site_category_fix',\n",
       " 'app_id_fix',\n",
       " 'app_domain_fix',\n",
       " 'app_category_fix',\n",
       " 'device_id_fix',\n",
       " 'device_ip_fix',\n",
       " 'device_model_fix',\n",
       " 'device_type',\n",
       " 'device_conn_type',\n",
       " 'C14_fix',\n",
       " 'C15',\n",
       " 'C16',\n",
       " 'C17_fix',\n",
       " 'C18',\n",
       " 'C19_fix',\n",
       " 'C20_fix',\n",
       " 'C21',\n",
       " 'hour_fix']"
      ]
     },
     "execution_count": 31,
     "metadata": {},
     "output_type": "execute_result"
    }
   ],
   "source": [
    "col_sel = ['id', 'click']\n",
    "for col in f_cols:\n",
    "    del_nums = len(col_del[col])\n",
    "    if del_nums > 0:\n",
    "        col_sel.append(f'{col}_fix')\n",
    "    else:\n",
    "        col_sel.append(col)\n",
    "col_sel"
   ]
  },
  {
   "cell_type": "code",
   "execution_count": 34,
   "id": "ethical-catalyst",
   "metadata": {},
   "outputs": [
    {
     "name": "stdout",
     "output_type": "stream",
     "text": [
      "CPU times: user 7min 5s, sys: 2min 24s, total: 9min 30s\n",
      "Wall time: 11min 17s\n"
     ]
    }
   ],
   "source": [
    "%%time\n",
    "train[col_sel].to_csv('./train_preprocess1.csv')"
   ]
  },
  {
   "cell_type": "markdown",
   "id": "trained-reynolds",
   "metadata": {},
   "source": [
    "## 可能意義更強的欄位\n",
    "### hour、C1、banner_pos、site_id、site_category、app_category、device_ip、device_model、C14、C17、C18、C19、C20、C21"
   ]
  },
  {
   "cell_type": "code",
   "execution_count": 13,
   "id": "contained-abortion",
   "metadata": {},
   "outputs": [],
   "source": [
    "from sklearn.feature_extraction import DictVectorizer\n",
    "from sklearn.model_selection import train_test_split\n",
    "from sklearn.tree import DecisionTreeClassifier\n",
    "from sklearn.preprocessing import StandardScaler"
   ]
  },
  {
   "cell_type": "code",
   "execution_count": 9,
   "id": "pacific-religion",
   "metadata": {},
   "outputs": [],
   "source": [
    "x = train_data.drop(columns=['id', 'click'])\n",
    "y = train_data['click']"
   ]
  },
  {
   "cell_type": "code",
   "execution_count": null,
   "id": "cosmetic-folks",
   "metadata": {},
   "outputs": [],
   "source": [
    "%%time\n",
    "x = pd.get_dummies(x)"
   ]
  },
  {
   "cell_type": "code",
   "execution_count": null,
   "id": "labeled-architect",
   "metadata": {},
   "outputs": [],
   "source": []
  }
 ],
 "metadata": {
  "kernelspec": {
   "display_name": "Python 3",
   "language": "python",
   "name": "python3"
  },
  "language_info": {
   "codemirror_mode": {
    "name": "ipython",
    "version": 3
   },
   "file_extension": ".py",
   "mimetype": "text/x-python",
   "name": "python",
   "nbconvert_exporter": "python",
   "pygments_lexer": "ipython3",
   "version": "3.7.8"
  }
 },
 "nbformat": 4,
 "nbformat_minor": 5
}
