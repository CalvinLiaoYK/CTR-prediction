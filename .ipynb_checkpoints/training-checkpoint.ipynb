{
 "cells": [
  {
   "cell_type": "code",
   "execution_count": 1,
   "id": "associate-northern",
   "metadata": {},
   "outputs": [],
   "source": [
    "import pandas as pd\n",
    "import time\n",
    "from collections import defaultdict"
   ]
  },
  {
   "cell_type": "code",
   "execution_count": 2,
   "id": "polyphonic-shelter",
   "metadata": {},
   "outputs": [
    {
     "name": "stdout",
     "output_type": "stream",
     "text": [
      "CPU times: user 2min, sys: 25.6 s, total: 2min 26s\n",
      "Wall time: 2min 29s\n"
     ]
    },
    {
     "data": {
      "text/plain": [
       "(40428967, 24)"
      ]
     },
     "execution_count": 2,
     "metadata": {},
     "output_type": "execute_result"
    }
   ],
   "source": [
    "%%time\n",
    "train = pd.read_csv('./train_preprocess2.csv',\n",
    "                    dtype={\n",
    "                        'C1_fix':object,\n",
    "                        'banner_pos_fix':object,\n",
    "                        'site_id_fix_fix':object,\n",
    "                        'site_domain_fix_fix':object,\n",
    "                        'site_category_fix_fix':object,\n",
    "                        'app_id_fix_fix':object,\n",
    "                        'app_domain_fix_fix':object,\n",
    "                        'app_category_fix_fix':object,\n",
    "                        'device_id_fix_fix':object,\n",
    "                        'device_ip_fix_fix':object,\n",
    "                        'device_model_fix_fix':object,\n",
    "                        'device_type_fix':object,\n",
    "                        'device_conn_type_fix':object,\n",
    "                        'C14_fix_fix':object,\n",
    "                        'C15_fix':object,\n",
    "                        'C16_fix':object,\n",
    "                        'C17_fix_fix':object,\n",
    "                        'C18_fix':object,\n",
    "                        'C19_fix_fix':object,\n",
    "                        'C20_fix_fix':object,\n",
    "                        'C21_fix':object,\n",
    "                        'hour_fix_fix':object\n",
    "                    })\n",
    "train.shape"
   ]
  },
  {
   "cell_type": "code",
   "execution_count": 3,
   "id": "brazilian-stock",
   "metadata": {},
   "outputs": [
    {
     "data": {
      "text/plain": [
       "id                       float64\n",
       "click                      int64\n",
       "C1_fix                    object\n",
       "banner_pos_fix            object\n",
       "site_id_fix_fix           object\n",
       "site_domain_fix_fix       object\n",
       "site_category_fix_fix     object\n",
       "app_id_fix_fix            object\n",
       "app_domain_fix_fix        object\n",
       "app_category_fix_fix      object\n",
       "device_id_fix_fix         object\n",
       "device_ip_fix_fix         object\n",
       "device_model_fix_fix      object\n",
       "device_type_fix           object\n",
       "device_conn_type_fix      object\n",
       "C14_fix_fix               object\n",
       "C15_fix                   object\n",
       "C16_fix                   object\n",
       "C17_fix_fix               object\n",
       "C18_fix                   object\n",
       "C19_fix_fix               object\n",
       "C20_fix_fix               object\n",
       "C21_fix                   object\n",
       "hour_fix_fix              object\n",
       "dtype: object"
      ]
     },
     "execution_count": 3,
     "metadata": {},
     "output_type": "execute_result"
    }
   ],
   "source": [
    "train.dtypes"
   ]
  },
  {
   "cell_type": "code",
   "execution_count": 4,
   "id": "other-pasta",
   "metadata": {},
   "outputs": [],
   "source": [
    "f_cols = train.columns.tolist()\n",
    "f_cols.remove('id')\n",
    "f_cols.remove('click')"
   ]
  },
  {
   "cell_type": "code",
   "execution_count": 5,
   "id": "streaming-shirt",
   "metadata": {},
   "outputs": [
    {
     "name": "stdout",
     "output_type": "stream",
     "text": [
      "CPU times: user 1min 35s, sys: 32.3 s, total: 2min 7s\n",
      "Wall time: 2min 10s\n"
     ]
    },
    {
     "data": {
      "text/plain": [
       "C1_fix                      4\n",
       "banner_pos_fix              6\n",
       "site_id_fix_fix           475\n",
       "site_domain_fix_fix       411\n",
       "site_category_fix_fix       6\n",
       "app_id_fix_fix            277\n",
       "app_domain_fix_fix         12\n",
       "app_category_fix_fix        4\n",
       "device_id_fix_fix          23\n",
       "device_ip_fix_fix        7638\n",
       "device_model_fix_fix     1578\n",
       "device_type_fix             3\n",
       "device_conn_type_fix        2\n",
       "C14_fix_fix               652\n",
       "C15_fix                     5\n",
       "C16_fix                     6\n",
       "C17_fix_fix               152\n",
       "C18_fix                     2\n",
       "C19_fix_fix                17\n",
       "C20_fix_fix                45\n",
       "C21_fix                    20\n",
       "hour_fix_fix               24\n",
       "dtype: int64"
      ]
     },
     "execution_count": 5,
     "metadata": {},
     "output_type": "execute_result"
    }
   ],
   "source": [
    "%%time\n",
    "train[f_cols].nunique()"
   ]
  },
  {
   "cell_type": "markdown",
   "id": "superior-glance",
   "metadata": {},
   "source": [
    "## 模型訓練"
   ]
  },
  {
   "cell_type": "code",
   "execution_count": 3,
   "id": "assigned-continent",
   "metadata": {},
   "outputs": [],
   "source": [
    "from sklearn.model_selection import train_test_split, GridSearchCV\n",
    "from sklearn.tree import DecisionTreeClassifier as dt\n",
    "from sklearn.ensemble import RandomForestClassifier as rf\n",
    "from sklearn.preprocessing import StandardScaler"
   ]
  },
  {
   "cell_type": "code",
   "execution_count": 4,
   "id": "animated-webster",
   "metadata": {},
   "outputs": [
    {
     "name": "stdout",
     "output_type": "stream",
     "text": [
      "CPU times: user 1min 22s, sys: 36.9 s, total: 1min 58s\n",
      "Wall time: 2min 2s\n"
     ]
    },
    {
     "data": {
      "text/plain": [
       "(10570684, 23)"
      ]
     },
     "execution_count": 4,
     "metadata": {},
     "output_type": "execute_result"
    }
   ],
   "source": [
    "%%time\n",
    "train_distinct = train.drop(columns=['id']).drop_duplicates()\n",
    "train_distinct.shape"
   ]
  },
  {
   "cell_type": "code",
   "execution_count": 5,
   "id": "instant-discharge",
   "metadata": {},
   "outputs": [
    {
     "data": {
      "text/plain": [
       "0    7608952\n",
       "1    2961732\n",
       "Name: click, dtype: int64"
      ]
     },
     "execution_count": 5,
     "metadata": {},
     "output_type": "execute_result"
    }
   ],
   "source": [
    "train_distinct.click.value_counts()"
   ]
  },
  {
   "cell_type": "code",
   "execution_count": 6,
   "id": "cutting-regulation",
   "metadata": {},
   "outputs": [
    {
     "name": "stdout",
     "output_type": "stream",
     "text": [
      "CPU times: user 4.87 s, sys: 102 ms, total: 4.97 s\n",
      "Wall time: 5.05 s\n"
     ]
    },
    {
     "data": {
      "text/plain": [
       "(1057068, 23)"
      ]
     },
     "execution_count": 6,
     "metadata": {},
     "output_type": "execute_result"
    }
   ],
   "source": [
    "%%time\n",
    "train_sample = train_distinct.sample(frac=0.1, replace=True, random_state=42)\n",
    "train_sample.shape"
   ]
  },
  {
   "cell_type": "code",
   "execution_count": 7,
   "id": "temporal-petersburg",
   "metadata": {},
   "outputs": [
    {
     "data": {
      "text/plain": [
       "0    760412\n",
       "1    296656\n",
       "Name: click, dtype: int64"
      ]
     },
     "execution_count": 7,
     "metadata": {},
     "output_type": "execute_result"
    }
   ],
   "source": [
    "train_sample.click.value_counts()"
   ]
  },
  {
   "cell_type": "code",
   "execution_count": 10,
   "id": "fiscal-incident",
   "metadata": {},
   "outputs": [
    {
     "data": {
      "text/plain": [
       "C1_fix                      4\n",
       "banner_pos_fix              6\n",
       "site_id_fix_fix           474\n",
       "site_domain_fix_fix       410\n",
       "site_category_fix_fix       6\n",
       "app_id_fix_fix            273\n",
       "app_domain_fix_fix         12\n",
       "app_category_fix_fix        4\n",
       "device_id_fix_fix          22\n",
       "device_ip_fix_fix        7616\n",
       "device_model_fix_fix     1578\n",
       "device_type_fix             3\n",
       "device_conn_type_fix        2\n",
       "C14_fix_fix               652\n",
       "C15_fix                     5\n",
       "C16_fix                     6\n",
       "C17_fix_fix               152\n",
       "C18_fix                     2\n",
       "C19_fix_fix                17\n",
       "C20_fix_fix                45\n",
       "C21_fix                    20\n",
       "hour_fix_fix               24\n",
       "dtype: int64"
      ]
     },
     "execution_count": 10,
     "metadata": {},
     "output_type": "execute_result"
    }
   ],
   "source": [
    "train_sample[f_cols].nunique()"
   ]
  },
  {
   "cell_type": "code",
   "execution_count": 11,
   "id": "industrial-newark",
   "metadata": {},
   "outputs": [
    {
     "data": {
      "text/html": [
       "<div>\n",
       "<style scoped>\n",
       "    .dataframe tbody tr th:only-of-type {\n",
       "        vertical-align: middle;\n",
       "    }\n",
       "\n",
       "    .dataframe tbody tr th {\n",
       "        vertical-align: top;\n",
       "    }\n",
       "\n",
       "    .dataframe thead th {\n",
       "        text-align: right;\n",
       "    }\n",
       "</style>\n",
       "<table border=\"1\" class=\"dataframe\">\n",
       "  <thead>\n",
       "    <tr style=\"text-align: right;\">\n",
       "      <th></th>\n",
       "      <th>click</th>\n",
       "      <th>C1_fix</th>\n",
       "      <th>banner_pos_fix</th>\n",
       "      <th>site_id_fix_fix</th>\n",
       "      <th>site_domain_fix_fix</th>\n",
       "      <th>site_category_fix_fix</th>\n",
       "      <th>app_id_fix_fix</th>\n",
       "      <th>app_domain_fix_fix</th>\n",
       "      <th>app_category_fix_fix</th>\n",
       "      <th>device_id_fix_fix</th>\n",
       "      <th>...</th>\n",
       "      <th>device_conn_type_fix</th>\n",
       "      <th>C14_fix_fix</th>\n",
       "      <th>C15_fix</th>\n",
       "      <th>C16_fix</th>\n",
       "      <th>C17_fix_fix</th>\n",
       "      <th>C18_fix</th>\n",
       "      <th>C19_fix_fix</th>\n",
       "      <th>C20_fix_fix</th>\n",
       "      <th>C21_fix</th>\n",
       "      <th>hour_fix_fix</th>\n",
       "    </tr>\n",
       "  </thead>\n",
       "  <tbody>\n",
       "    <tr>\n",
       "      <th>22319365</th>\n",
       "      <td>1</td>\n",
       "      <td>1005</td>\n",
       "      <td>1</td>\n",
       "      <td>0a742914</td>\n",
       "      <td>510bd839</td>\n",
       "      <td>f028772b</td>\n",
       "      <td>ecad2386</td>\n",
       "      <td>7801e8d9</td>\n",
       "      <td>07d7df22</td>\n",
       "      <td>a99f214a</td>\n",
       "      <td>...</td>\n",
       "      <td>0</td>\n",
       "      <td>22147</td>\n",
       "      <td>DNP</td>\n",
       "      <td>DNP</td>\n",
       "      <td>2551</td>\n",
       "      <td>2</td>\n",
       "      <td>167</td>\n",
       "      <td>-1</td>\n",
       "      <td>23</td>\n",
       "      <td>13</td>\n",
       "    </tr>\n",
       "    <tr>\n",
       "      <th>22880423</th>\n",
       "      <td>0</td>\n",
       "      <td>1005</td>\n",
       "      <td>0</td>\n",
       "      <td>1fbe01fe</td>\n",
       "      <td>f3845767</td>\n",
       "      <td>28905ebd</td>\n",
       "      <td>ecad2386</td>\n",
       "      <td>7801e8d9</td>\n",
       "      <td>07d7df22</td>\n",
       "      <td>a99f214a</td>\n",
       "      <td>...</td>\n",
       "      <td>0</td>\n",
       "      <td>20108</td>\n",
       "      <td>DNP</td>\n",
       "      <td>DNP</td>\n",
       "      <td>2299</td>\n",
       "      <td>2</td>\n",
       "      <td>1327</td>\n",
       "      <td>-1</td>\n",
       "      <td>52</td>\n",
       "      <td>16</td>\n",
       "    </tr>\n",
       "    <tr>\n",
       "      <th>38135508</th>\n",
       "      <td>0</td>\n",
       "      <td>1005</td>\n",
       "      <td>0</td>\n",
       "      <td>1fbe01fe</td>\n",
       "      <td>f3845767</td>\n",
       "      <td>28905ebd</td>\n",
       "      <td>ecad2386</td>\n",
       "      <td>7801e8d9</td>\n",
       "      <td>07d7df22</td>\n",
       "      <td>a99f214a</td>\n",
       "      <td>...</td>\n",
       "      <td>0</td>\n",
       "      <td>22261</td>\n",
       "      <td>DNP</td>\n",
       "      <td>DNP</td>\n",
       "      <td>2545</td>\n",
       "      <td>DNP</td>\n",
       "      <td>431</td>\n",
       "      <td>-1</td>\n",
       "      <td>221</td>\n",
       "      <td>11</td>\n",
       "    </tr>\n",
       "    <tr>\n",
       "      <th>13940040</th>\n",
       "      <td>0</td>\n",
       "      <td>1005</td>\n",
       "      <td>0</td>\n",
       "      <td>DNP</td>\n",
       "      <td>DNP</td>\n",
       "      <td>DNP</td>\n",
       "      <td>DNP</td>\n",
       "      <td>DNP</td>\n",
       "      <td>DNP</td>\n",
       "      <td>a99f214a</td>\n",
       "      <td>...</td>\n",
       "      <td>0</td>\n",
       "      <td>22188</td>\n",
       "      <td>DNP</td>\n",
       "      <td>DNP</td>\n",
       "      <td>DNP</td>\n",
       "      <td>2</td>\n",
       "      <td>167</td>\n",
       "      <td>-1</td>\n",
       "      <td>23</td>\n",
       "      <td>5</td>\n",
       "    </tr>\n",
       "    <tr>\n",
       "      <th>7392491</th>\n",
       "      <td>1</td>\n",
       "      <td>1005</td>\n",
       "      <td>1</td>\n",
       "      <td>DNP</td>\n",
       "      <td>DNP</td>\n",
       "      <td>f028772b</td>\n",
       "      <td>ecad2386</td>\n",
       "      <td>7801e8d9</td>\n",
       "      <td>07d7df22</td>\n",
       "      <td>a99f214a</td>\n",
       "      <td>...</td>\n",
       "      <td>0</td>\n",
       "      <td>DNP</td>\n",
       "      <td>DNP</td>\n",
       "      <td>DNP</td>\n",
       "      <td>DNP</td>\n",
       "      <td>DNP</td>\n",
       "      <td>35</td>\n",
       "      <td>DNP</td>\n",
       "      <td>221</td>\n",
       "      <td>12</td>\n",
       "    </tr>\n",
       "  </tbody>\n",
       "</table>\n",
       "<p>5 rows × 23 columns</p>\n",
       "</div>"
      ],
      "text/plain": [
       "          click C1_fix banner_pos_fix site_id_fix_fix site_domain_fix_fix  \\\n",
       "22319365      1   1005              1        0a742914            510bd839   \n",
       "22880423      0   1005              0        1fbe01fe            f3845767   \n",
       "38135508      0   1005              0        1fbe01fe            f3845767   \n",
       "13940040      0   1005              0             DNP                 DNP   \n",
       "7392491       1   1005              1             DNP                 DNP   \n",
       "\n",
       "         site_category_fix_fix app_id_fix_fix app_domain_fix_fix  \\\n",
       "22319365              f028772b       ecad2386           7801e8d9   \n",
       "22880423              28905ebd       ecad2386           7801e8d9   \n",
       "38135508              28905ebd       ecad2386           7801e8d9   \n",
       "13940040                   DNP            DNP                DNP   \n",
       "7392491               f028772b       ecad2386           7801e8d9   \n",
       "\n",
       "         app_category_fix_fix device_id_fix_fix  ... device_conn_type_fix  \\\n",
       "22319365             07d7df22          a99f214a  ...                    0   \n",
       "22880423             07d7df22          a99f214a  ...                    0   \n",
       "38135508             07d7df22          a99f214a  ...                    0   \n",
       "13940040                  DNP          a99f214a  ...                    0   \n",
       "7392491              07d7df22          a99f214a  ...                    0   \n",
       "\n",
       "         C14_fix_fix C15_fix C16_fix C17_fix_fix C18_fix C19_fix_fix  \\\n",
       "22319365       22147     DNP     DNP        2551       2         167   \n",
       "22880423       20108     DNP     DNP        2299       2        1327   \n",
       "38135508       22261     DNP     DNP        2545     DNP         431   \n",
       "13940040       22188     DNP     DNP         DNP       2         167   \n",
       "7392491          DNP     DNP     DNP         DNP     DNP          35   \n",
       "\n",
       "         C20_fix_fix C21_fix hour_fix_fix  \n",
       "22319365          -1      23           13  \n",
       "22880423          -1      52           16  \n",
       "38135508          -1     221           11  \n",
       "13940040          -1      23            5  \n",
       "7392491          DNP     221           12  \n",
       "\n",
       "[5 rows x 23 columns]"
      ]
     },
     "execution_count": 11,
     "metadata": {},
     "output_type": "execute_result"
    }
   ],
   "source": [
    "train_sample.head()"
   ]
  },
  {
   "cell_type": "code",
   "execution_count": 8,
   "id": "threatened-father",
   "metadata": {},
   "outputs": [],
   "source": [
    "x = train_sample.drop(columns=['click'])\n",
    "y = train_sample[['click']]"
   ]
  },
  {
   "cell_type": "code",
   "execution_count": 9,
   "id": "chemical-cookbook",
   "metadata": {},
   "outputs": [
    {
     "name": "stdout",
     "output_type": "stream",
     "text": [
      "CPU times: user 4min 8s, sys: 31.9 s, total: 4min 39s\n",
      "Wall time: 4min 50s\n"
     ]
    },
    {
     "data": {
      "text/plain": [
       "((1057068, 11333), (1057068, 1))"
      ]
     },
     "execution_count": 9,
     "metadata": {},
     "output_type": "execute_result"
    }
   ],
   "source": [
    "%%time\n",
    "x = pd.get_dummies(x)\n",
    "x.shape, y.shape"
   ]
  },
  {
   "cell_type": "code",
   "execution_count": 11,
   "id": "daily-essay",
   "metadata": {},
   "outputs": [
    {
     "name": "stdout",
     "output_type": "stream",
     "text": [
      "CPU times: user 1min 46s, sys: 55.6 s, total: 2min 41s\n",
      "Wall time: 2min 52s\n"
     ]
    }
   ],
   "source": [
    "%%time\n",
    "x_train, x_test, y_train, y_test = train_test_split(x, y, test_size=0.2, random_state=42)"
   ]
  },
  {
   "cell_type": "code",
   "execution_count": null,
   "id": "improving-launch",
   "metadata": {},
   "outputs": [
    {
     "name": "stdout",
     "output_type": "stream",
     "text": [
      "Fitting 5 folds for each of 10 candidates, totalling 50 fits\n"
     ]
    }
   ],
   "source": [
    "%%time\n",
    "para_search = {'criterion':['gini','entropy'],'max_depth':[i for i in range(10, 20, 2)]}\n",
    "gs = GridSearchCV(dt(), param_grid=para_search, scoring='recall', verbose=1, n_jobs=-1)\n",
    "gs.fit(x_train, y_train)"
   ]
  },
  {
   "cell_type": "code",
   "execution_count": null,
   "id": "russian-blind",
   "metadata": {},
   "outputs": [],
   "source": []
  }
 ],
 "metadata": {
  "kernelspec": {
   "display_name": "Python 3",
   "language": "python",
   "name": "python3"
  },
  "language_info": {
   "codemirror_mode": {
    "name": "ipython",
    "version": 3
   },
   "file_extension": ".py",
   "mimetype": "text/x-python",
   "name": "python",
   "nbconvert_exporter": "python",
   "pygments_lexer": "ipython3",
   "version": "3.7.8"
  }
 },
 "nbformat": 4,
 "nbformat_minor": 5
}
